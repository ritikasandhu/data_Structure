{
  "nbformat": 4,
  "nbformat_minor": 0,
  "metadata": {
    "colab": {
      "provenance": []
    },
    "kernelspec": {
      "name": "python3",
      "display_name": "Python 3"
    },
    "language_info": {
      "name": "python"
    }
  },
  "cells": [
    {
      "cell_type": "markdown",
      "source": [
        "                                      Data Types and Structures assigmnet-2\n"
      ],
      "metadata": {
        "id": "g79-6VmnCFXO"
      }
    },
    {
      "cell_type": "markdown",
      "source": [
        "question 1-- What are data structures, and why are they important?\n",
        "answer--A data structure is a way of organizing, storing, and managing data so that it can be used efficiently.\n",
        "Think of it like containers for data — just like you use cupboards, drawers, and shelves to keep things organized at home.example-array,list,stack,queue.\n",
        "important--1-efficiency,2--Data Organization,3--Reusability,4--Problem Solving,5--Scalability\n"
      ],
      "metadata": {
        "id": "sX7yv-eXC8i_"
      }
    },
    {
      "cell_type": "markdown",
      "source": [
        "2--Explain the difference between mutable and immutable datatypes withexamples?\n",
        "answer-Mutable Data Types:Objects that can be changed (modified) after creation.You can update, add, or remove elements without creating a new object.Examples in Python: list, dict, set, bytearray.\n",
        "Immutable Data Types--Objects that cannot be changed once created.\n",
        "Any modification creates a new object in memory.\n",
        "\n",
        "Examples in Python: int, float, string, tuple, frozenset, bytes.\n"
      ],
      "metadata": {
        "id": "TD4HlkfMEYrU"
      }
    },
    {
      "cell_type": "markdown",
      "source": [
        "3--What are the main differences between lists and tuples in Python?\n",
        "answer---list:is a mutable sequence → can be modified after creation.\n",
        "2 Created with [ ] square brackets.Mutable → you can change, add, or remove elements.Has many methods: .append(), .extend(), .remove(), .pop(), etc.\n",
        "tuple is An immutable sequence → cannot be modified after creation.\n",
        "Created with ( ) parentheses.Immutable → no changes allowed after creation.Very few methods: only .count() and .index()."
      ],
      "metadata": {
        "id": "IHp3FdsJHXFH"
      }
    },
    {
      "cell_type": "markdown",
      "source": [
        "4--Describe how dictionaries store data?\n",
        "answer--A dictionary is a built-in data structure that stores key–value pairs.\n",
        "Keys are unique and usually immutable types (str, int, tuple, etc.).\n",
        "\n",
        "Values can be of any type (mutable or immutable).\n",
        "student = {\"name\": \"Ritika\", \"age\": 25, \"course\": \"Python\"}\n"
      ],
      "metadata": {
        "id": "fTihAkUMIdQv"
      }
    },
    {
      "cell_type": "markdown",
      "source": [
        "5--Why might you use a set instead of a list in Python ?\n",
        "answer--A set is an unordered collection of unique elements.\n",
        "\n",
        "Created using { } or the set() function.\n",
        "\n",
        "Example:nums = {1, 2, 3, 3, 2}\n",
        "print(nums)   # {1, 2, 3}\n",
        "Duplicate values are automatically removed.\n",
        "used sets instead of list:1. Uniqueness,Faster Membership TestingMathematical Set Operations\n"
      ],
      "metadata": {
        "id": "AM1huQZ-kwfR"
      }
    },
    {
      "cell_type": "markdown",
      "source": [
        "6--What is a string in Python, and how is it different from a list?\n",
        "answer--A string is a sequence of characters enclosed in single quotes ', double quotes \", or triple quotes ''' / \"\"\".  ex:text = \"Hello, World!\"\n",
        "Strings are immutable → once created, they cannot be changed directly.and list is Sequence of any objects (numbers, strings, lists, etc.) list are ✅ Mutable (can add, remove, or modify elements). Enclosed in square brackets ([10, 20, 30])"
      ],
      "metadata": {
        "id": "5ANFcdNFlySd"
      }
    },
    {
      "cell_type": "markdown",
      "source": [
        "7--How do tuples ensure data integrity in Python?\n",
        "answer--Tuples and Data Integrity in Python\n",
        "🔹 1. Immutability\n",
        "\n",
        "The biggest reason tuples ensure data integrity is that they are immutable.\n",
        "\n",
        "Once created, the contents of a tuple cannot be modified (no adding, deleting, or changing elements).\n",
        "\n",
        "This guarantees that data stays consistent throughout the program.\n",
        "2-Hashability (Safe as Keys in Dicts/Sets)"
      ],
      "metadata": {
        "id": "xWWUPB8UnYn8"
      }
    },
    {
      "cell_type": "markdown",
      "source": [
        "8--What is a hash table, and how does it relate to dictionaries in Python?\n",
        "answer--A hash table is a data structure that stores data in key–value pairs and allows very fast lookups, insertions, and deletions.\n",
        "In Python, a dictionary (dict) is implemented using a hash table.\n",
        "\n",
        "The keys are hashed → mapped to positions in an internal table.\n",
        "\n",
        "Values are stored alongside their keys.person = {\"name\": \"Ritika\", \"age\": 25}\n",
        "\n",
        "print(person[\"name\"])  # O(1) lookup, very fast\n"
      ],
      "metadata": {
        "id": "6Yyv6LHosdH8"
      }
    },
    {
      "cell_type": "markdown",
      "source": [
        "9--Can lists contain different data types in Python?\n",
        "anser==yes,A list is a mutable sequence, defined using square brackets [ ].\n",
        "\n",
        "Unlike many programming languages (like Java or C++), Python lists are heterogeneous, meaning they can hold different types of objects in the same list."
      ],
      "metadata": {
        "id": "b3SLeS0VtsZ7"
      }
    },
    {
      "cell_type": "markdown",
      "source": [
        "10--Explain why strings are i mmutable in Python?\n",
        "anser--🔹 1. Memory & Hashing (Efficiency in Dictionaries/Sets)\n",
        "2Thread-Safety,Reusability & Memory Optimization (String Interning)\n",
        "Strings are immutable in Python because it ensures:\n",
        "\n",
        "Hash consistency (safe for dict keys & sets).\n",
        "\n",
        "Thread-safety (no accidental modifications).\n",
        "\n",
        "Memory efficiency (string interning).\n",
        "\n",
        "Predictability (no side effects when passing strings).\n"
      ],
      "metadata": {
        "id": "kKa1YwHRuayZ"
      }
    },
    {
      "cell_type": "markdown",
      "source": [
        "11-What advantages do dictionaries offer over lists for certain tasks?\n",
        "Dictionaries are better than lists when you need:\n",
        "\n",
        "Fast lookups,\n",
        "\n",
        "Logical key–value associations,\n",
        "\n",
        "Counting/grouping/mapping tasks,\n",
        "\n",
        "Flexible, heterogeneous data storage.\n"
      ],
      "metadata": {
        "id": "izJKzaXgvCUG"
      }
    },
    {
      "cell_type": "markdown",
      "source": [
        "12-- Describe a scenario where using a tuple would be preferable over a list ?\n",
        "answer--Use a tuple over a list when:\n",
        "\n",
        "Data should not change (immutability).\n",
        "\n",
        "You need to use the object as a key in a dictionary or in a set.\n",
        "\n",
        "You want to represent a fixed collection (e.g., coordinates, RGB values, or function return values)."
      ],
      "metadata": {
        "id": "IUuRxLK9wQv4"
      }
    },
    {
      "cell_type": "markdown",
      "source": [
        "13--How do sets handle duplicate values in Python?\n",
        "answer--Sets automatically eliminate duplicates.\n",
        "\n",
        "Adding a duplicate element is ignored.\n",
        "\n",
        "This property makes sets ideal for storing unique collections of data.\n",
        "my_list = [1, 2, 2, 3, 4, 4, 5]\n",
        "unique_values = set(my_list)\n",
        "print(unique_values)  # {1, 2, 3, 4, 5}\n"
      ],
      "metadata": {
        "id": "jCvZY92oxbcI"
      }
    },
    {
      "cell_type": "markdown",
      "source": [
        "14--How does the “in” keyword work differently for lists and dictionaries ?\n",
        "answer-1. Using in with Lists\n",
        "\n",
        "When you do element in list, Python checks each item in the list one by one until it finds a match.\n",
        "\n",
        "This is called linear search, so it has O(n) time complexity.\n",
        "fruits = [\"apple\", \"banana\", \"mango\"]\n",
        "\n",
        "print(\"banana\" in fruits)  # True\n",
        "print(\"orange\" in fruits)  # False\n",
        "Using in with Dictionaries\n",
        "\n",
        "When you do key in dict, Python checks only the dictionary keys (not values).\n",
        "\n",
        "Dictionaries are implemented using hash tables, so this check is very fast (O(1)).\n",
        "\n",
        "ex-\n",
        "\n",
        "student = {\"name\": \"Ritika\", \"age\": 25, \"course\": \"Python\"}\n",
        "\n",
        "print(\"name\" in student)   # True\n",
        "print(\"Ritika\" in student) # False → searches keys, not values"
      ],
      "metadata": {
        "id": "2EwwTRN9x95S"
      }
    },
    {
      "cell_type": "markdown",
      "source": [
        "15-- Can you modify the elements of a tuple? Explain why or why not ?\n",
        "answer- no,Tuples Are Immutable\n",
        "\n",
        "A tuple is an immutable sequence, meaning once it is created, its elements cannot be changed, added, or removed.3. Special Case: Mutable Objects Inside Tuples\n",
        "\n",
        "If a tuple contains a mutable object (like a list), you can modify that mutable object, but not the tuple itself.\n",
        "\n",
        "Example:\n",
        "\n",
        "t = (1, 2, [3, 4])\n",
        "t[2].append(5)   # Modifies the list inside the tuple\n",
        "print(t)         # (1, 2, [3, 4, 5])\n",
        "\n",
        "\n",
        "The tuple structure is unchanged; only the mutable element inside is modified."
      ],
      "metadata": {
        "id": "StARV6KEyqyr"
      }
    },
    {
      "cell_type": "markdown",
      "source": [
        "16--What is a nested dictionary, and give an example of its use case ?\n",
        "answer--A nested dictionary is a dictionary that contains another dictionary (or multiple dictionaries) as a value.\n",
        "\n",
        "This allows you to store hierarchical or structured data.\n",
        "\n",
        "Example:\n",
        "\n",
        "nested_dict = {\n",
        "    \"student1\": {\"name\": \"Ritika\", \"age\": 25, \"course\": \"Python\"},\n",
        "    \"student2\": {\"name\": \"Anubhav\", \"age\": 27, \"course\": \"Java\"}\n",
        "}"
      ],
      "metadata": {
        "id": "DpGe4TUC0Y06"
      }
    },
    {
      "cell_type": "markdown",
      "source": [
        "17--Describe the time complexity of accessing elements in a dictionary?\n",
        "Time Complexity of Accessing Elements in a Dictionary\n",
        "\n",
        "Python dictionaries are implemented using a hash table.\n",
        "\n",
        "Each key is hashed to calculate an index (bucket) in the underlying table.\n",
        "\n",
        "This allows direct access to the value associated with the key."
      ],
      "metadata": {
        "id": "Qm7Q-096244B"
      }
    },
    {
      "cell_type": "markdown",
      "source": [
        "18--In what situations are lists preferred over dictionaries?\n",
        "answer--Where Lists Are Preferred Over Dictionaries\n",
        "1. Ordered Collection of Items\n",
        "\n",
        "Lists preserve order, so they are ideal when the sequence of elements matters.\n",
        "\n",
        "Dictionaries preserve insertion order (Python 3.7+), but lists are simpler and more natural for sequential data.\n",
        "2-Indexed Access\n",
        "3. Homogeneous Data"
      ],
      "metadata": {
        "id": "0SEWCc6l3M5g"
      }
    },
    {
      "cell_type": "markdown",
      "source": [
        "19--Why are dictionaries considered unordered, and how does that affect data retrieval ? answer--In Python versions before 3.7, dictionaries did not preserve the order in which keys were inserted.\n",
        "\n",
        "Internally, dictionaries use a hash table:\n",
        "\n",
        "Each key is hashed to determine its position in memory (bucket).\n",
        "\n",
        "Keys are stored according to their hash value, not the order of insertion.\n",
        "\n",
        "Because of this, iterating over a dictionary could return keys in any arbitrary order."
      ],
      "metadata": {
        "id": "wp7LrPjs3rIZ"
      }
    },
    {
      "cell_type": "markdown",
      "source": [
        "20--Explainthedifferencebetweenalistandadictionaryintermsofdataretrieval.\n",
        "answer--\tList\n",
        "\n",
        "A list is an ordered collection of elements.\n",
        "\n",
        "Each element is accessed using an index (position in the list, starting from 0).\n",
        "\n",
        "Data retrieval is done by index:\n",
        "Dictionary\n",
        "\n",
        "A dictionary is an unordered collection of key-value pairs.\n",
        "\n",
        "Each element is accessed using a key, not an index.\n",
        "\n",
        "Data retrieval is done by key:"
      ],
      "metadata": {
        "id": "alfBKeuq4O7E"
      }
    },
    {
      "cell_type": "markdown",
      "source": [
        "                                                  Practical Questions\n"
      ],
      "metadata": {
        "id": "3CylAxf84hZ3"
      }
    },
    {
      "cell_type": "markdown",
      "source": [
        "1-Write a code to create a string with your name and print it?"
      ],
      "metadata": {
        "id": "HIuVQyeq4n9K"
      }
    },
    {
      "cell_type": "code",
      "source": [
        "name = \"ritika sandhu\"\n",
        "print(name)\n"
      ],
      "metadata": {
        "colab": {
          "base_uri": "https://localhost:8080/"
        },
        "id": "o2_oluHC4t_U",
        "outputId": "a9b60456-eb25-40d1-ecc4-3cde3127e57c"
      },
      "execution_count": 1,
      "outputs": [
        {
          "output_type": "stream",
          "name": "stdout",
          "text": [
            "ritika sandhu\n"
          ]
        }
      ]
    },
    {
      "cell_type": "markdown",
      "source": [
        "2-Write a code to find the length of the string \"Hello World\"?"
      ],
      "metadata": {
        "id": "hy3ilUC98q6p"
      }
    },
    {
      "cell_type": "code",
      "source": [
        "name = \"Hello World\"\n",
        "print(name)\n",
        "\n",
        "length = len(name)  # Correct spelling\n",
        "print(length)       # This will print the length of the string\n"
      ],
      "metadata": {
        "colab": {
          "base_uri": "https://localhost:8080/"
        },
        "id": "BG-n6qO48zSD",
        "outputId": "3f221393-d4eb-4848-bb67-cebefc053bb3"
      },
      "execution_count": 2,
      "outputs": [
        {
          "output_type": "stream",
          "name": "stdout",
          "text": [
            "Hello World\n",
            "11\n"
          ]
        }
      ]
    },
    {
      "cell_type": "markdown",
      "source": [
        "3- Write a code to slice the first 3 characters from the string \"Python Programming?"
      ],
      "metadata": {
        "id": "L8248nSy-n58"
      }
    },
    {
      "cell_type": "code",
      "source": [
        "text = \"Python Programming\"\n",
        "\n",
        "\n",
        "first_three = text[:3]\n",
        "\n",
        "\n",
        "print(first_three)"
      ],
      "metadata": {
        "colab": {
          "base_uri": "https://localhost:8080/"
        },
        "id": "jjsKaNvIKrrf",
        "outputId": "425cc0b2-594c-44b9-d481-6b8385072ffd"
      },
      "execution_count": 6,
      "outputs": [
        {
          "output_type": "stream",
          "name": "stdout",
          "text": [
            "Pyt\n"
          ]
        }
      ]
    },
    {
      "cell_type": "markdown",
      "source": [
        "4- Write a code to convert the string \"hello\" to uppercase?\n"
      ],
      "metadata": {
        "id": "ekK--6GZNiBT"
      }
    },
    {
      "cell_type": "code",
      "source": [
        "\n",
        "text = \"hello\"\n",
        "\n",
        "uppercase_text = text.upper()\n",
        "\n",
        "\n",
        "print(uppercase_text)\n"
      ],
      "metadata": {
        "colab": {
          "base_uri": "https://localhost:8080/"
        },
        "id": "InHlJx-KZDf0",
        "outputId": "ad3a7858-45ac-416c-e6e1-f621ac98b469"
      },
      "execution_count": 7,
      "outputs": [
        {
          "output_type": "stream",
          "name": "stdout",
          "text": [
            "HELLO\n"
          ]
        }
      ]
    },
    {
      "cell_type": "markdown",
      "source": [
        " 5--Write a code to replace the word \"apple\" with \"orange\" in the string \"I like apple\"?"
      ],
      "metadata": {
        "id": "jp8B30CNcAf5"
      }
    },
    {
      "cell_type": "code",
      "source": [
        "word=\"I like apple\"\n",
        "repl_word=word.replace(\"apple\",\"orange\")\n",
        "print(repl_word)\n"
      ],
      "metadata": {
        "colab": {
          "base_uri": "https://localhost:8080/"
        },
        "id": "iWzgOFC9cHt3",
        "outputId": "aa92e1e0-7a86-4933-c435-8247a52cadc0"
      },
      "execution_count": 11,
      "outputs": [
        {
          "output_type": "stream",
          "name": "stdout",
          "text": [
            "I like orange\n"
          ]
        }
      ]
    },
    {
      "cell_type": "markdown",
      "source": [
        "6--Write a code to create a list with numbers 1 to 5 and print it?"
      ],
      "metadata": {
        "id": "iDbdjW4b2oYP"
      }
    },
    {
      "cell_type": "code",
      "source": [
        "list=[1,2,3,4,5]\n",
        "print(list)"
      ],
      "metadata": {
        "colab": {
          "base_uri": "https://localhost:8080/"
        },
        "id": "nKVZeWdh2teO",
        "outputId": "29abde78-109c-45c9-f207-8c0bd4f1af4e"
      },
      "execution_count": 1,
      "outputs": [
        {
          "output_type": "stream",
          "name": "stdout",
          "text": [
            "[1, 2, 3, 4, 5]\n"
          ]
        }
      ]
    },
    {
      "cell_type": "markdown",
      "source": [
        "7--Write a code to append the number 10 to the list [1, 2, 3, 4]?"
      ],
      "metadata": {
        "id": "nUqrAtneYA8l"
      }
    },
    {
      "cell_type": "code",
      "source": [
        "number = [1, 2, 3, 4, 5]\n",
        "number.append(10)   # list ke andar direct 10 add hoga\n",
        "print(number)       # updated list print karo\n"
      ],
      "metadata": {
        "colab": {
          "base_uri": "https://localhost:8080/"
        },
        "id": "BLU0RgMlYFPU",
        "outputId": "e820b44a-7da0-4a84-b197-9608466d9fbf"
      },
      "execution_count": 5,
      "outputs": [
        {
          "output_type": "stream",
          "name": "stdout",
          "text": [
            "[1, 2, 3, 4, 5, 10]\n"
          ]
        }
      ]
    },
    {
      "cell_type": "markdown",
      "source": [
        "8--Write a code to remove the number 3 from the list [1, 2, 3, 4, 5]?"
      ],
      "metadata": {
        "id": "v2OUuVBCZP1J"
      }
    },
    {
      "cell_type": "code",
      "source": [
        "number=[1,2,3,4,5]\n",
        "number.remove(3)\n",
        "print(number)\n"
      ],
      "metadata": {
        "colab": {
          "base_uri": "https://localhost:8080/"
        },
        "id": "hQGMYM-aZTwt",
        "outputId": "2d9b04ff-af8d-4765-e8ad-639efd3eb677"
      },
      "execution_count": 6,
      "outputs": [
        {
          "output_type": "stream",
          "name": "stdout",
          "text": [
            "[1, 2, 4, 5]\n"
          ]
        }
      ]
    },
    {
      "cell_type": "markdown",
      "source": [
        "9--Write a code to access the second element in the list ['a', 'b', 'c', 'd']?"
      ],
      "metadata": {
        "id": "ieZDvBl-Zohm"
      }
    },
    {
      "cell_type": "code",
      "source": [
        "my_list = ['a', 'b', 'c', 'd']\n",
        "print(my_list[1])\n"
      ],
      "metadata": {
        "colab": {
          "base_uri": "https://localhost:8080/"
        },
        "id": "Tz1TwNgcZuSY",
        "outputId": "1bf49b60-0bd1-4079-e80b-d5b25226e73e"
      },
      "execution_count": 8,
      "outputs": [
        {
          "output_type": "stream",
          "name": "stdout",
          "text": [
            "b\n"
          ]
        }
      ]
    },
    {
      "cell_type": "markdown",
      "source": [
        "10--Write a  code to. reverse the list[10,20,30,40,50].\n"
      ],
      "metadata": {
        "id": "QKGGqSPia3zz"
      }
    },
    {
      "cell_type": "code",
      "source": [
        "numbers = [10, 20, 30, 40, 50]\n",
        "numbers.reverse()\n",
        "print(numbers)\n"
      ],
      "metadata": {
        "colab": {
          "base_uri": "https://localhost:8080/"
        },
        "id": "D3TUlB0-bKGH",
        "outputId": "323ea723-9a8a-425f-b39e-b4a7eeeecb54"
      },
      "execution_count": 9,
      "outputs": [
        {
          "output_type": "stream",
          "name": "stdout",
          "text": [
            "[50, 40, 30, 20, 10]\n"
          ]
        }
      ]
    },
    {
      "cell_type": "markdown",
      "source": [
        "11. Write a code to create a tuple with the elements 100, 200, 300 and print it.\n"
      ],
      "metadata": {
        "id": "EhGS0tIfbmyV"
      }
    },
    {
      "cell_type": "code",
      "source": [
        "my_tuple = (100, 200, 300)\n",
        "print(my_tuple)\n"
      ],
      "metadata": {
        "colab": {
          "base_uri": "https://localhost:8080/"
        },
        "id": "N5s7yMmEboZ9",
        "outputId": "c8914584-9b70-4b9a-ff37-7ee761537a27"
      },
      "execution_count": 12,
      "outputs": [
        {
          "output_type": "stream",
          "name": "stdout",
          "text": [
            "(100, 200, 300)\n"
          ]
        }
      ]
    },
    {
      "cell_type": "markdown",
      "source": [
        "12-. Write a code to access the second-to-last element of the tuple ('red', 'green', 'blue', 'yellow').\n"
      ],
      "metadata": {
        "id": "RIcUb-aGccPZ"
      }
    },
    {
      "cell_type": "code",
      "source": [
        "colors = ('red', 'green', 'blue', 'yellow')\n",
        "second_last = colors[-2]\n",
        "print(second_last)\n"
      ],
      "metadata": {
        "colab": {
          "base_uri": "https://localhost:8080/"
        },
        "id": "M6sUZk6gckAA",
        "outputId": "f250464f-72c0-425e-c6b0-0bd063401dab"
      },
      "execution_count": 15,
      "outputs": [
        {
          "output_type": "stream",
          "name": "stdout",
          "text": [
            "blue\n"
          ]
        }
      ]
    },
    {
      "cell_type": "markdown",
      "source": [
        "13. Write a code to find the minimum number in the tuple (10, 20, 5, 15).\n"
      ],
      "metadata": {
        "id": "KDqk8pMLet_H"
      }
    },
    {
      "cell_type": "code",
      "source": [
        "number=(10, 20, 5, 15)\n",
        "print(min(number))"
      ],
      "metadata": {
        "colab": {
          "base_uri": "https://localhost:8080/"
        },
        "id": "9-ZUazB3fB5a",
        "outputId": "fbd825d1-d970-48c4-ffd3-5d9114b99428"
      },
      "execution_count": 16,
      "outputs": [
        {
          "output_type": "stream",
          "name": "stdout",
          "text": [
            "5\n"
          ]
        }
      ]
    },
    {
      "cell_type": "markdown",
      "source": [
        "14. Write a code to find the index of the element \"cat\" in the tuple ('dog', 'cat', 'rabbit').\n"
      ],
      "metadata": {
        "id": "eH-ZKLJyfnEw"
      }
    },
    {
      "cell_type": "code",
      "source": [
        "animals = ('dog', 'cat', 'rabbit')\n",
        "index_of_cat = animals.index('cat')\n",
        "print(index_of_cat)\n"
      ],
      "metadata": {
        "colab": {
          "base_uri": "https://localhost:8080/"
        },
        "id": "T2b6DfPcfysD",
        "outputId": "ec618854-aa78-4865-e11f-f1abf5830ebf"
      },
      "execution_count": 18,
      "outputs": [
        {
          "output_type": "stream",
          "name": "stdout",
          "text": [
            "1\n"
          ]
        }
      ]
    },
    {
      "cell_type": "markdown",
      "source": [
        "15. Write a code to create a tuple containing three different fruits and check if \"kiwi\" is in it.\n"
      ],
      "metadata": {
        "id": "EikG0cGIgiPg"
      }
    },
    {
      "cell_type": "code",
      "source": [
        "fruits = ('apple', 'banana', 'mango')\n",
        "\n",
        "# Check if 'kiwi' is in the tuple\n",
        "if 'kiwi' in fruits:\n",
        "    print(\"Kiwi is in the tuple\")\n",
        "else:\n",
        "    print(\"Kiwi is not in the tuple\")\n",
        "\n"
      ],
      "metadata": {
        "colab": {
          "base_uri": "https://localhost:8080/"
        },
        "id": "wt_1kj-FglWv",
        "outputId": "41c32229-2d63-4f03-e8ed-f958f22e3ea7"
      },
      "execution_count": 19,
      "outputs": [
        {
          "output_type": "stream",
          "name": "stdout",
          "text": [
            "Kiwi is not in the tuple\n"
          ]
        }
      ]
    },
    {
      "cell_type": "markdown",
      "source": [
        "16. Write a code to create a set with the elements 'a', 'b', 'c' and print it.\n"
      ],
      "metadata": {
        "id": "_qENSchNhUu2"
      }
    },
    {
      "cell_type": "code",
      "source": [
        "my_set = {'a', 'b', 'c'}\n",
        "print(my_set)\n"
      ],
      "metadata": {
        "colab": {
          "base_uri": "https://localhost:8080/"
        },
        "id": "7hVLZBzShY4g",
        "outputId": "e486efb3-ade4-48a9-f6d5-a74d8b479a22"
      },
      "execution_count": 20,
      "outputs": [
        {
          "output_type": "stream",
          "name": "stdout",
          "text": [
            "{'b', 'c', 'a'}\n"
          ]
        }
      ]
    },
    {
      "cell_type": "markdown",
      "source": [
        "17. Write a code to clear all elements from the set {1, 2, 3, 4, 5}.\n"
      ],
      "metadata": {
        "id": "BhKJf_2oh4bv"
      }
    },
    {
      "cell_type": "code",
      "source": [
        "my_set = {1, 2, 3, 4, 5}\n",
        "my_set.clear()\n",
        "print(my_set)\n"
      ],
      "metadata": {
        "colab": {
          "base_uri": "https://localhost:8080/"
        },
        "id": "4ymKlSvxh-pX",
        "outputId": "bebcff51-efd5-46bd-dc7c-62e25e6eba90"
      },
      "execution_count": 21,
      "outputs": [
        {
          "output_type": "stream",
          "name": "stdout",
          "text": [
            "set()\n"
          ]
        }
      ]
    },
    {
      "cell_type": "markdown",
      "source": [
        "18. Write a code to remove the element 4 from the set {1, 2, 3, 4}.\n"
      ],
      "metadata": {
        "id": "oeiqMxSPiU7v"
      }
    },
    {
      "cell_type": "code",
      "source": [
        "my_set = {1, 2, 3, 4}\n",
        "my_set.remove(4)\n",
        "print(my_set)\n"
      ],
      "metadata": {
        "colab": {
          "base_uri": "https://localhost:8080/"
        },
        "id": "8CFspbETiaEY",
        "outputId": "f3868508-d25b-4894-d06c-d900becab072"
      },
      "execution_count": 22,
      "outputs": [
        {
          "output_type": "stream",
          "name": "stdout",
          "text": [
            "{1, 2, 3}\n"
          ]
        }
      ]
    },
    {
      "cell_type": "markdown",
      "source": [
        "19. Write a code to find the union of two sets {1, 2, 3} and {3, 4, 5}.\n"
      ],
      "metadata": {
        "id": "_KvdYLxpiiB_"
      }
    },
    {
      "cell_type": "code",
      "source": [
        "set1 = {1, 2, 3}\n",
        "set2 = {3, 4, 5}\n",
        "\n",
        "union_set = set1 | set2\n",
        "print(union_set)\n"
      ],
      "metadata": {
        "colab": {
          "base_uri": "https://localhost:8080/"
        },
        "id": "PiTHVQldij8q",
        "outputId": "435c0da7-9efa-409e-e160-b2a2858edb1e"
      },
      "execution_count": 23,
      "outputs": [
        {
          "output_type": "stream",
          "name": "stdout",
          "text": [
            "{1, 2, 3, 4, 5}\n"
          ]
        }
      ]
    },
    {
      "cell_type": "markdown",
      "source": [
        "20. Write a code to find the intersection of two sets {1, 2, 3} and {2, 3, 4}.\n"
      ],
      "metadata": {
        "id": "Vf6Xkshli0si"
      }
    },
    {
      "cell_type": "code",
      "source": [
        "set1 = {1, 2, 3}\n",
        "set2 = {2, 3, 4}\n",
        "\n",
        "intersection_set = set1 & set2\n",
        "print(intersection_set)\n"
      ],
      "metadata": {
        "colab": {
          "base_uri": "https://localhost:8080/"
        },
        "id": "JMqs210li3s-",
        "outputId": "f5226a66-1e91-4458-8835-4c1421276e89"
      },
      "execution_count": 24,
      "outputs": [
        {
          "output_type": "stream",
          "name": "stdout",
          "text": [
            "{2, 3}\n"
          ]
        }
      ]
    },
    {
      "cell_type": "markdown",
      "source": [
        "21. Write a code to create a dictionary with the keys \"name\", \"age\", and \"city\", and print it.\n"
      ],
      "metadata": {
        "id": "zZh4e-lMjCYZ"
      }
    },
    {
      "cell_type": "code",
      "source": [
        "my_dict = {\n",
        "    \"name\": \"Alice\",\n",
        "    \"age\": 25,\n",
        "    \"city\": \"New York\"\n",
        "}\n",
        "\n",
        "print(my_dict)\n"
      ],
      "metadata": {
        "colab": {
          "base_uri": "https://localhost:8080/"
        },
        "id": "Ry8jQCJJjf0u",
        "outputId": "5c648ac5-9c80-49e6-bee8-05bcb2271f48"
      },
      "execution_count": 25,
      "outputs": [
        {
          "output_type": "stream",
          "name": "stdout",
          "text": [
            "{'name': 'Alice', 'age': 25, 'city': 'New York'}\n"
          ]
        }
      ]
    },
    {
      "cell_type": "markdown",
      "source": [
        "22. Write a code to add a new key-value pair \"country\": \"USA\" to the dictionary {'name': 'John', 'age': 25}"
      ],
      "metadata": {
        "id": "lGccaucLjhty"
      }
    },
    {
      "cell_type": "code",
      "source": [
        "my_dict = {'name': 'John', 'age': 25}\n",
        "\n",
        "\n",
        "my_dict['country'] = 'USA'\n",
        "\n",
        "print(my_dict)\n"
      ],
      "metadata": {
        "colab": {
          "base_uri": "https://localhost:8080/"
        },
        "id": "BfwYrBfCjtT_",
        "outputId": "88295e47-f875-4509-ebcd-6cea45c2446c"
      },
      "execution_count": 26,
      "outputs": [
        {
          "output_type": "stream",
          "name": "stdout",
          "text": [
            "{'name': 'John', 'age': 25, 'country': 'USA'}\n"
          ]
        }
      ]
    },
    {
      "cell_type": "markdown",
      "source": [
        "23. Write a code to access the value associated with the key \"name\" in the dictionary {'name': 'Alice', 'age': 30}.\n"
      ],
      "metadata": {
        "id": "NZFp7ofVj4Ex"
      }
    },
    {
      "cell_type": "code",
      "source": [
        "my_dict = {'name': 'Alice', 'age': 30}\n",
        "name_value = my_dict.get('name')\n",
        "print(name_value)\n"
      ],
      "metadata": {
        "colab": {
          "base_uri": "https://localhost:8080/"
        },
        "id": "H_98NkXwkBGI",
        "outputId": "9236bab3-84af-42ad-dc90-fedc81ef7410"
      },
      "execution_count": 27,
      "outputs": [
        {
          "output_type": "stream",
          "name": "stdout",
          "text": [
            "Alice\n"
          ]
        }
      ]
    },
    {
      "cell_type": "markdown",
      "source": [
        "24. Write a code to remove the key \"age\" from the dictionary {'name': 'Bob', 'age': 22, 'city': 'New York'}.\n"
      ],
      "metadata": {
        "id": "Uimh_Nz9kTX6"
      }
    },
    {
      "cell_type": "code",
      "source": [
        "my_dict = {'name': 'Bob', 'age': 22, 'city': 'New York'}\n",
        "\n",
        "# Remove the key 'age'\n",
        "del my_dict['age']\n",
        "\n",
        "print(my_dict)\n"
      ],
      "metadata": {
        "colab": {
          "base_uri": "https://localhost:8080/"
        },
        "id": "xYKqj4J4kVmH",
        "outputId": "5db8cf73-58ac-45d1-f0ab-8d033f5538c3"
      },
      "execution_count": 28,
      "outputs": [
        {
          "output_type": "stream",
          "name": "stdout",
          "text": [
            "{'name': 'Bob', 'city': 'New York'}\n"
          ]
        }
      ]
    },
    {
      "cell_type": "markdown",
      "source": [
        "25. Write a code to check if the key \"city\" exists in the dictionary {'name': 'Alice', 'city': 'Paris'}.\n"
      ],
      "metadata": {
        "id": "yJ-Xp-C0kqKh"
      }
    },
    {
      "cell_type": "code",
      "source": [
        "my_dict = {'name': 'Alice', 'city': 'Paris'}\n",
        "\n",
        "if 'city' in my_dict:\n",
        "    print(\"Key 'city' exists in the dictionary\")\n",
        "else:\n",
        "    print(\"Key 'city' does not exist in the dictionary\")\n"
      ],
      "metadata": {
        "colab": {
          "base_uri": "https://localhost:8080/"
        },
        "id": "jOOQXifpkxJ4",
        "outputId": "e97ab117-f725-4b6b-ffd0-0eb2f72ee623"
      },
      "execution_count": 29,
      "outputs": [
        {
          "output_type": "stream",
          "name": "stdout",
          "text": [
            "Key 'city' exists in the dictionary\n"
          ]
        }
      ]
    },
    {
      "cell_type": "markdown",
      "source": [
        "26. Write a code to create a list, a tuple, and a dictionary, and print them all.\n"
      ],
      "metadata": {
        "id": "1xW4TIZgk8N9"
      }
    },
    {
      "cell_type": "code",
      "source": [
        "\n",
        "my_list = [1, 2, 3]\n",
        "\n",
        "# Tuple\n",
        "my_tuple = (4, 5, 6)\n",
        "\n",
        "# Dictionary\n",
        "my_dict = {'name': 'Alice', 'age': 25}\n",
        "\n",
        "# Print all\n",
        "print(\"List:\", my_list)\n",
        "print(\"Tuple:\", my_tuple)\n",
        "print(\"Dictionary:\", my_dict)\n"
      ],
      "metadata": {
        "colab": {
          "base_uri": "https://localhost:8080/"
        },
        "id": "CqxafkoQlIv0",
        "outputId": "ce0d2b21-7061-4133-a21e-418bf481a9f6"
      },
      "execution_count": 30,
      "outputs": [
        {
          "output_type": "stream",
          "name": "stdout",
          "text": [
            "List: [1, 2, 3]\n",
            "Tuple: (4, 5, 6)\n",
            "Dictionary: {'name': 'Alice', 'age': 25}\n"
          ]
        }
      ]
    },
    {
      "cell_type": "markdown",
      "source": [
        "27. Write a code to create a list of 5 random numbers between 1 and 100, sort it in ascending order, and print the result.(replaced)\n"
      ],
      "metadata": {
        "id": "BnmJUfcglM_L"
      }
    },
    {
      "cell_type": "code",
      "source": [
        "import random\n",
        "\n",
        "# Create a list of 5 random numbers between 1 and 100\n",
        "random_numbers = [random.randint(1, 100) for _ in range(5)]\n",
        "\n",
        "# Sort the list in ascending order\n",
        "random_numbers.sort()\n",
        "\n",
        "# Print the result\n",
        "print(random_numbers)\n"
      ],
      "metadata": {
        "colab": {
          "base_uri": "https://localhost:8080/"
        },
        "id": "A2_6u1m7lQHd",
        "outputId": "07ef8793-ea97-4878-d067-ccab9133a5aa"
      },
      "execution_count": 31,
      "outputs": [
        {
          "output_type": "stream",
          "name": "stdout",
          "text": [
            "[13, 18, 34, 47, 59]\n"
          ]
        }
      ]
    },
    {
      "cell_type": "markdown",
      "source": [
        "28. Write a code to create a list with strings and print the element at the third index.\n"
      ],
      "metadata": {
        "id": "nfKY4RPKli1r"
      }
    },
    {
      "cell_type": "code",
      "source": [
        "# Create a list of strings\n",
        "my_list = [\"apple\", \"banana\", \"cherry\", \"date\", \"elderberry\"]\n",
        "\n",
        "# Access element at third index\n",
        "element = my_list[3]\n",
        "print(element)\n"
      ],
      "metadata": {
        "colab": {
          "base_uri": "https://localhost:8080/"
        },
        "id": "pvDNkbaCljwR",
        "outputId": "f8baff8e-3362-4d47-b92d-d06243ea1a5d"
      },
      "execution_count": 32,
      "outputs": [
        {
          "output_type": "stream",
          "name": "stdout",
          "text": [
            "date\n"
          ]
        }
      ]
    },
    {
      "cell_type": "markdown",
      "source": [
        "29. Write a code to combine two dictionaries into one and print the result.\n"
      ],
      "metadata": {
        "id": "C0BHITKTlq8J"
      }
    },
    {
      "cell_type": "code",
      "source": [
        "dict1 = {'a': 1, 'b': 2}\n",
        "dict2 = {'c': 3, 'd': 4}\n",
        "\n",
        "combined_dict = dict1 | dict2\n",
        "print(combined_dict)\n"
      ],
      "metadata": {
        "colab": {
          "base_uri": "https://localhost:8080/"
        },
        "id": "bxbjP_4Bkpw_",
        "outputId": "b82ead11-f936-411f-9244-a7a0a78f2b5b"
      },
      "execution_count": 33,
      "outputs": [
        {
          "output_type": "stream",
          "name": "stdout",
          "text": [
            "{'a': 1, 'b': 2, 'c': 3, 'd': 4}\n"
          ]
        }
      ]
    },
    {
      "cell_type": "markdown",
      "source": [
        "30. Write a code to convert a list of strings into a set."
      ],
      "metadata": {
        "id": "Luwy_5knl-CT"
      }
    },
    {
      "cell_type": "code",
      "source": [
        "# List of strings\n",
        "my_list = [\"apple\", \"banana\", \"cherry\", \"apple\", \"banana\"]\n",
        "\n",
        "# Convert list to set\n",
        "my_set = set(my_list)\n",
        "\n",
        "print(my_set)\n"
      ],
      "metadata": {
        "colab": {
          "base_uri": "https://localhost:8080/"
        },
        "id": "yTSzgzNSl_BU",
        "outputId": "257d57ff-d221-47a6-95f2-88ac61842e3d"
      },
      "execution_count": 34,
      "outputs": [
        {
          "output_type": "stream",
          "name": "stdout",
          "text": [
            "{'cherry', 'banana', 'apple'}\n"
          ]
        }
      ]
    },
    {
      "cell_type": "markdown",
      "source": [],
      "metadata": {
        "id": "dfambxVTbk-b"
      }
    },
    {
      "cell_type": "code",
      "source": [],
      "metadata": {
        "id": "zfVPmvMoa-GK"
      },
      "execution_count": null,
      "outputs": []
    },
    {
      "cell_type": "markdown",
      "source": [],
      "metadata": {
        "id": "KD6iUSlkb2vM"
      }
    },
    {
      "cell_type": "code",
      "source": [],
      "metadata": {
        "id": "9Qrd0rya-s7C"
      },
      "execution_count": null,
      "outputs": []
    }
  ]
}